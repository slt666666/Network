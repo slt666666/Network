{
 "cells": [
  {
   "cell_type": "code",
   "execution_count": 3,
   "metadata": {},
   "outputs": [
    {
     "data": {
      "image/png": "[encoded data removed]",
      "text/plain": [
       "<Figure size 432x288 with 1 Axes>"
      ]
     },
     "metadata": {
      "needs_background": "light"
     },
     "output_type": "display_data"
    },
    {
     "name": "stdout",
     "output_type": "stream",
     "text": [
      "(870, 370)\n"
     ]
    },
    {
     "data": {
      "image/png": "[encoded data removed]",
      "text/plain": [
       "<Figure size 432x288 with 1 Axes>"
      ]
     },
     "metadata": {
      "needs_background": "light"
     },
     "output_type": "display_data"
    },
    {
     "name": "stdout",
     "output_type": "stream",
     "text": [
      "(870, 370)\n"
     ]
    }
   ],
   "source": [
    "import pandas as pd\n",
    "import numpy as np\n",
    "import matplotlib.pyplot as plt\n",
    "\n",
    "with open('Coffee/original_data/coffee_alignment_BN.fasta') as f:\n",
    "    gene_IDs = []\n",
    "    sequences = []\n",
    "    for i, line in enumerate(f):\n",
    "        if (i % 2) == 0:\n",
    "            gene_IDs.append(line[:-1])\n",
    "        else:\n",
    "            sequences.append(list(line[:-1]))\n",
    "data = pd.DataFrame(sequences)\n",
    "data[\"gene_IDs\"] = gene_IDs\n",
    "data = data.set_index(\"gene_IDs\")\n",
    "\n",
    "# extract AtZAR1 position\n",
    "data = data.loc[:, data.loc[\">AtZAR1\", :] != \"-\"]\n",
    "data\n",
    "# count \"-\"\n",
    "no_data_count = data == \"-\"\n",
    "no_data_count = no_data_count.sum()\n",
    "plt.hist(no_data_count)\n",
    "plt.show()\n",
    "\n",
    "# extract amino acid with many gene having\n",
    "extract_amino = no_data_count < 10000\n",
    "extract_data = data.loc[:, extract_amino]\n",
    "print(extract_data.shape)\n",
    "\n",
    "no_data_count = extract_data == \"-\"\n",
    "extract_amino = no_data_count.sum(axis=1) < 28000\n",
    "plt.hist(no_data_count.sum(axis=1))\n",
    "plt.show()\n",
    "extract_data = extract_data.loc[extract_amino, :]\n",
    "print(extract_data.shape)\n",
    "\n",
    "# to fasta\n",
    "with open(\"Coffee/original_data/coffee_alignment_BN_extractAtZAR1.fasta\", mode='w') as f:\n",
    "    for i in range(extract_data.shape[0]):\n",
    "        f.write(extract_data.index[i])\n",
    "        f.write(\"\\n\")\n",
    "        f.write(\"\".join(extract_data.iloc[i, :].tolist()))\n",
    "        f.write(\"\\n\")\n"
   ]
  },
  {
   "cell_type": "code",
   "execution_count": null,
   "metadata": {},
   "outputs": [],
   "source": []
  }
 ],
 "metadata": {
  "kernelspec": {
   "display_name": "Python 3",
   "language": "python",
   "name": "python3"
  },
  "language_info": {
   "codemirror_mode": {
    "name": "ipython",
    "version": 3
   },
   "file_extension": ".py",
   "mimetype": "text/x-python",
   "name": "python",
   "nbconvert_exporter": "python",
   "pygments_lexer": "ipython3",
   "version": "3.7.2"
  }
 },
 "nbformat": 4,
 "nbformat_minor": 2
}
